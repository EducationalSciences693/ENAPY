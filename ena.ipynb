{
 "cells": [
  {
   "cell_type": "markdown",
   "metadata": {},
   "source": [
    "## Usando o rENA no python\n",
    "\n",
    "O exemplo abaixo mostra como utilizar a biblioteca do R rENA com a liguagem python.\n",
    "Todas as bibliotecas do python podem ser usadas para mnipular e arrumar os dados para serem plotados.\n",
    "\n",
    "Todas as funçoes da biblioteca podem ser chamadas usando a interface rENA, um outro detalhe ,e que os pontos (.) devem ser substituidos por underscore (_)\n",
    "Exemplo:\n",
    "    A função ena.plot() pode ser chamada usando rENA.ena_plot()\n",
    "    A função ena.plot.points() pode ser chamada usando rENA.ena_plot_points().\n",
    "    \n",
    "### Bibliotecas necessárias:\n",
    "    Devem ser instaladas as bibliotecas R rENA e data.table usando os comandos abaixo:\n",
    "    install.packages(\"rENA\")\n",
    "    install.packages(\"data.table\")\n",
    "    \n",
    "    No python devemos instalar a biblioteca rpy2 usando o seguinte comando:\n",
    "    pip install rpy2\n",
    "    \n",
    "    "
   ]
  },
  {
   "cell_type": "code",
   "execution_count": 1,
   "metadata": {},
   "outputs": [
    {
     "name": "stderr",
     "output_type": "stream",
     "text": [
      "/home/thiago/anaconda3/lib/python3.7/site-packages/rpy2/robjects/pandas2ri.py:14: FutureWarning: pandas.core.index is deprecated and will be removed in a future version.  The public classes are available in the top-level namespace.\n",
      "  from pandas.core.index import Index as PandasIndex\n",
      "/home/thiago/anaconda3/lib/python3.7/site-packages/rpy2/robjects/pandas2ri.py:34: UserWarning: pandas >= 1.0 is not supported.\n",
      "  warnings.warn('pandas >= 1.0 is not supported.')\n"
     ]
    }
   ],
   "source": [
    "# -*- coding: UTF-8 -*-\n",
    "\n",
    "import pandas as pd\n",
    "from rpy2.robjects import r, pandas2ri, Formula\n",
    "from rpy2.robjects.packages import importr\n",
    "import rpy2.robjects as ro\n",
    "from rpy2.robjects.conversion import localconverter\n",
    "pandas2ri.activate()  # makes some conversions automatic"
   ]
  },
  {
   "cell_type": "markdown",
   "metadata": {},
   "source": [
    "## Importação da biblioteca rENA do R\n",
    "Suas funções estarão disponíveis na variável \"rENA\""
   ]
  },
  {
   "cell_type": "code",
   "execution_count": 2,
   "metadata": {},
   "outputs": [],
   "source": [
    "rENA = importr('rENA')"
   ]
  },
  {
   "cell_type": "markdown",
   "metadata": {},
   "source": [
    "## A função robjects possibilita a utilização de funções do R dentro python"
   ]
  },
  {
   "cell_type": "code",
   "execution_count": 3,
   "metadata": {},
   "outputs": [],
   "source": [
    "#funções do R preparadas para serem chamadas no python\n",
    "pr = ro.r(\"print\")\n",
    "colMeans = ro.r(\"colMeans\")\n",
    "rmax = ro.r(\"max\")"
   ]
  },
  {
   "cell_type": "code",
   "execution_count": 4,
   "metadata": {},
   "outputs": [],
   "source": [
    "# Leitura dos dados a serem plotados\n",
    "#rsdata = pd.read_csv(\"rsdata.csv\")\n",
    "# load your file\n",
    "object = ro.r['load']('RS.data.rda')\n",
    "r.data('RS.data')\n",
    "rsdata = r['RS.data']"
   ]
  },
  {
   "cell_type": "markdown",
   "metadata": {},
   "source": [
    "## Identificar colunas para usar no acumulador\n",
    "Antes de executar a função ena_accumulate_data, precisamos primeiro identificar quais colunas de dados usar em nossas unidades (units), conversas (conversation) e códigos (codes). Há também um parâmetro opcional de metadados (meta), que é para dados específicos da unidade que desejamos realizar no processo de acumulação e nos manter associados às unidades identificadas."
   ]
  },
  {
   "cell_type": "code",
   "execution_count": 5,
   "metadata": {},
   "outputs": [],
   "source": [
    "units = rsdata[['Condition','UserName']]\n",
    "conversation = rsdata[['Condition','GroupName']]\n",
    "codes = rsdata[['Data','Technical.Constraints','Performance.Parameters','Client.and.Consultant.Requests','Design.Reasoning','Collaboration']]\n",
    "meta = rsdata[[\"CONFIDENCE.Change\",\"CONFIDENCE.Pre\",\"CONFIDENCE.Post\",\"C.Change\"]]"
   ]
  },
  {
   "cell_type": "markdown",
   "metadata": {},
   "source": [
    "## Executando a acumulação dos dados\n",
    "Com os dados identificados e subconjuntos, a acumulação e a geração de conjuntos são bastante simples."
   ]
  },
  {
   "cell_type": "code",
   "execution_count": 6,
   "metadata": {},
   "outputs": [],
   "source": [
    "accum = rENA.ena_accumulate_data(units, conversation, codes, meta)"
   ]
  },
  {
   "cell_type": "markdown",
   "metadata": {},
   "source": [
    "## Gerando o set (confjunto) ENA\n",
    "A forma mais básica de um ENAset pode ser gerada passando o resultado da chamada da função ena_accumulate_data para ena_make_set."
   ]
  },
  {
   "cell_type": "code",
   "execution_count": 7,
   "metadata": {},
   "outputs": [],
   "source": [
    "set = rENA.ena_make_set(\n",
    "  enadata=accum\n",
    ")"
   ]
  },
  {
   "cell_type": "code",
   "execution_count": 8,
   "metadata": {},
   "outputs": [
    {
     "data": {
      "text/plain": [
       "R object with classes: ('ENAplot', 'R6') mapped to:"
      ]
     },
     "execution_count": 8,
     "metadata": {},
     "output_type": "execute_result"
    }
   ],
   "source": [
    "points = (set.rx2('points'))\n",
    "\n",
    "df_points1 = points.loc[points['Condition'] == \"FirstGame\"]\n",
    "df_points2 = points.loc[points['Condition'] == \"SecondGame\"]\n",
    "### Subset rotated points for the first condition\n",
    "first_game_points = df_points1.drop(columns=['ENA_UNIT','Condition','UserName', 'CONFIDENCE.Change', 'CONFIDENCE.Pre', 'CONFIDENCE.Post', \"C.Change\"])\n",
    "### Subset rotated points for the second condition\n",
    "second_game_points = df_points2.drop(columns=['ENA_UNIT','Condition','UserName',  'CONFIDENCE.Change', 'CONFIDENCE.Pre', 'CONFIDENCE.Post', \"C.Change\"])\n",
    "\n",
    "\n",
    "\n",
    "plot = rENA.ena_plot(set, scale_to =\"network\", title =\"Groups of Units\")\n",
    "plot = rENA.ena_plot_points(plot, points = first_game_points, confidence_interval =\"box\", colors = (\"blue\"))\n",
    "plot = rENA.ena_plot_points(plot, points = second_game_points, confidence_interval =\"box\", colors = (\"red\"))\n",
    "pr(plot)"
   ]
  },
  {
   "cell_type": "code",
   "execution_count": 9,
   "metadata": {},
   "outputs": [
    {
     "data": {
      "text/plain": [
       "R object with classes: ('ENAplot', 'R6') mapped to:"
      ]
     },
     "execution_count": 9,
     "metadata": {},
     "output_type": "execute_result"
    }
   ],
   "source": [
    "plot = rENA.ena_plot(set, scale_to = [-1, 0, 1], title =\"Groups and Means\")\n",
    "plot = rENA.ena_plot_points(plot, points = first_game_points, confidence_interval =\"box\", colors = (\"blue\"))\n",
    "plot = rENA.ena_plot_points(plot, points = second_game_points, confidence_interval =\"box\", colors = (\"red\"))\n",
    "plot = rENA.ena_plot_group(plot, first_game_points, colors = (\"red\"), confidence_interval =\"box\")\n",
    "plot = rENA.ena_plot_group(plot, second_game_points, colors =(\"blue\"), confidence_interval =\"box\")\n",
    "pr(plot)"
   ]
  },
  {
   "cell_type": "code",
   "execution_count": 10,
   "metadata": {},
   "outputs": [
    {
     "data": {
      "text/plain": [
       "R object with classes: ('ENAplot', 'R6') mapped to:"
      ]
     },
     "execution_count": 10,
     "metadata": {},
     "output_type": "execute_result"
    }
   ],
   "source": [
    "line_weights = (set.rx2('line.weights'))\n",
    "\n",
    "### Subset lineweights for SecondGame and Calculate the colMeans\n",
    "first_game_lineweights = line_weights.loc[points['Condition'] == \"FirstGame\"]\n",
    "second_game_lineweights = line_weights.loc[points['Condition'] == \"SecondGame\"]\n",
    "\n",
    "first_game_lineweights = first_game_lineweights.drop(columns=['ENA_UNIT','Condition','UserName', 'CONFIDENCE.Change', 'CONFIDENCE.Pre', 'CONFIDENCE.Post', \"C.Change\"])\n",
    "### Subset rotated points for the second condition\n",
    "second_game_lineweights = second_game_lineweights.drop(columns=['ENA_UNIT','Condition','UserName',  'CONFIDENCE.Change', 'CONFIDENCE.Pre', 'CONFIDENCE.Post', \"C.Change\"])\n",
    "\n",
    "first_game_mean = colMeans(first_game_lineweights)\n",
    "second_game_mean = colMeans(second_game_lineweights)\n",
    "\n",
    "subtracted_mean = first_game_mean - second_game_mean\n",
    "\n",
    "plot_first = rENA.ena_plot(set, title =\"FirstGame\")\n",
    "plot_first = rENA.ena_plot_network(plot_first, network = first_game_mean)\n",
    "pr(plot_first)\n",
    "\n",
    "plot_second = rENA.ena_plot(set, title =\"SecondGame\")\n",
    "plot_second = rENA.ena_plot_network(plot_second, network = second_game_mean, colors = (\"blue\"))\n",
    "pr(plot_second)\n",
    "\n",
    "plot_sub = rENA.ena_plot(set, title =\"Subtracted\")\n",
    "plot_sub = rENA.ena_plot_network(plot_sub, network = subtracted_mean)\n",
    "pr(plot_sub)\n"
   ]
  },
  {
   "cell_type": "code",
   "execution_count": 11,
   "metadata": {
    "scrolled": false
   },
   "outputs": [
    {
     "data": {
      "text/plain": [
       "R object with classes: ('ENAplot', 'R6') mapped to:"
      ]
     },
     "execution_count": 11,
     "metadata": {},
     "output_type": "execute_result"
    }
   ],
   "source": [
    "rotation = (set.rx2('rotation'))\n",
    "nodes = rotation.rx2('nodes')\n",
    "\n",
    "# Scale the nodes to match that of the network, for better viewing\n",
    "first_game_points_max = rmax(first_game_points)\n",
    "second_game_points_max = rmax(second_game_points)\n",
    "if(first_game_points_max> second_game_points_max):\n",
    "  point_max = first_game_points_max\n",
    "else:\n",
    "  point_max = second_game_points_max\n",
    "\n",
    "nodes = nodes.drop(columns=['code'])\n",
    "max_nodes = rmax(nodes)\n",
    "with localconverter(ro.default_converter + pandas2ri.converter):\n",
    "  first_game_points = ro.conversion.py2rpy(first_game_points)\n",
    "\n",
    "first_game_scaled = first_game_points\n",
    "second_game_scaled = second_game_points\n",
    "\n",
    "plot = rENA.ena_plot(set, title =\"Plot with Units and Network\", font_family =\"Times\")\n",
    "plot = rENA.ena_plot_points(plot, points = first_game_scaled, colors = (\"red\"))\n",
    "plot = rENA.ena_plot_points(plot, points = second_game_scaled, colors = (\"blue\"))\n",
    "plot = rENA.ena_plot_group(plot, point = first_game_scaled, colors =(\"red\"), confidence_interval =\"box\")\n",
    "plot = rENA.ena_plot_group(plot, point = second_game_scaled, colors =(\"blue\"), confidence_interval =\"box\")\n",
    "plot = rENA.ena_plot_network(plot, network = subtracted_mean)\n",
    "pr(plot)\n"
   ]
  }
 ],
 "metadata": {
  "kernelspec": {
   "display_name": "Python 3",
   "language": "python",
   "name": "python3"
  },
  "language_info": {
   "codemirror_mode": {
    "name": "ipython",
    "version": 3
   },
   "file_extension": ".py",
   "mimetype": "text/x-python",
   "name": "python",
   "nbconvert_exporter": "python",
   "pygments_lexer": "ipython3",
   "version": "3.7.6"
  }
 },
 "nbformat": 4,
 "nbformat_minor": 4
}

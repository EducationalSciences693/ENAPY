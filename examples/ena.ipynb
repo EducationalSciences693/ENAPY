{
 "cells": [
  {
   "cell_type": "markdown",
   "metadata": {},
   "source": [
    "## Usando o rENA no python\n",
    "\n",
    "O exemplo abaixo mostra como utilizar a biblioteca do R rENA com a liguagem python.\n",
    "Todas as bibliotecas do python podem ser usadas para mnipular e arrumar os dados para serem plotados.\n",
    "\n",
    "Todas as funçoes da biblioteca podem ser chamadas usando a interface rENA, um outro detalhe ,e que os pontos (.) devem ser substituidos por underscore (_)\n",
    "Exemplo:\n",
    "    A função ena.plot() pode ser chamada usando rENA.ena_plot()\n",
    "    A função ena.plot.points() pode ser chamada usando rENA.ena_plot_points().\n",
    "    \n",
    "### Bibliotecas necessárias:\n",
    "    Devem ser instaladas as bibliotecas R rENA e data.table usando os comandos abaixo:\n",
    "    install.packages(\"rENA\")\n",
    "    install.packages(\"data.table\")\n",
    "    \n",
    "    No python devemos instalar a biblioteca rpy2 usando o seguinte comando:\n",
    "    pip install rpy2\n",
    "    \n",
    "    "
   ]
  },
  {
   "cell_type": "code",
   "execution_count": 44,
   "metadata": {},
   "outputs": [],
   "source": [
    "# -*- coding: UTF-8 -*-\n",
    "\n",
    "from pandas import read_csv, DataFrame\n",
    "from plotnine import ggplot, geom_point, geom_label, geom_line, aes, stat_smooth, facet_wrap, coord_fixed\n",
    "from rpy2.robjects import pandas2ri, Formula\n",
    "from rpy2.robjects.packages import importr\n",
    "import rpy2.robjects as ro\n",
    "from rpy2.robjects.conversion import localconverter\n",
    "pandas2ri.activate()  # makes some conversions automatic"
   ]
  },
  {
   "cell_type": "markdown",
   "metadata": {},
   "source": [
    "## Importação da biblioteca rENA do R\n",
    "Suas funções estarão disponíveis na variável \"rENA\""
   ]
  },
  {
   "cell_type": "code",
   "execution_count": 2,
   "metadata": {},
   "outputs": [],
   "source": [
    "rENA = importr('rENA')"
   ]
  },
  {
   "cell_type": "markdown",
   "metadata": {},
   "source": [
    "## A função robjects possibilita a utilização de funções do R dentro python"
   ]
  },
  {
   "cell_type": "code",
   "execution_count": 3,
   "metadata": {},
   "outputs": [],
   "source": [
    "#funções do R preparadas para serem chamadas no python\n",
    "pr = ro.r(\"print\")\n",
    "colMeans = ro.r(\"colMeans\")\n",
    "rmax = ro.r(\"max\")"
   ]
  },
  {
   "cell_type": "code",
   "execution_count": 4,
   "metadata": {},
   "outputs": [],
   "source": [
    "# Leitura dos dados a serem plotados\n",
    "rsdata = read_csv(\"/home/jovyan/data/rsdata.csv\")"
   ]
  },
  {
   "cell_type": "markdown",
   "metadata": {},
   "source": [
    "## Identificar colunas para usar no acumulador\n",
    "Antes de executar a função ena_accumulate_data, precisamos primeiro identificar quais colunas de dados usar em nossas unidades (units), conversas (conversation) e códigos (codes). Há também um parâmetro opcional de metadados (meta), que é para dados específicos da unidade que desejamos realizar no processo de acumulação e nos manter associados às unidades identificadas."
   ]
  },
  {
   "cell_type": "code",
   "execution_count": 5,
   "metadata": {},
   "outputs": [],
   "source": [
    "units = rsdata[['Condition','UserName']]\n",
    "conversation = rsdata[['Condition','GroupName']]\n",
    "codes = rsdata[['Data','Technical.Constraints','Performance.Parameters','Client.and.Consultant.Requests','Design.Reasoning','Collaboration']]\n",
    "meta = rsdata[[\"CONFIDENCE.Change\",\"CONFIDENCE.Pre\",\"CONFIDENCE.Post\",\"C.Change\"]]"
   ]
  },
  {
   "cell_type": "markdown",
   "metadata": {},
   "source": [
    "## Executando a acumulação dos dados\n",
    "Com os dados identificados e subconjuntos, a acumulação e a geração de conjuntos são bastante simples."
   ]
  },
  {
   "cell_type": "code",
   "execution_count": 6,
   "metadata": {},
   "outputs": [],
   "source": [
    "accum = rENA.ena_accumulate_data(units, conversation, codes, meta)"
   ]
  },
  {
   "cell_type": "markdown",
   "metadata": {},
   "source": [
    "## Gerando o set (confjunto) ENA\n",
    "A forma mais básica de um ENAset pode ser gerada passando o resultado da chamada da função ena_accumulate_data para ena_make_set."
   ]
  },
  {
   "cell_type": "code",
   "execution_count": 7,
   "metadata": {},
   "outputs": [],
   "source": [
    "enaset = rENA.ena_make_set(\n",
    "  enadata=accum\n",
    ")"
   ]
  },
  {
   "cell_type": "markdown",
   "metadata": {},
   "source": [
    "## Plot Units In Each Group"
   ]
  },
  {
   "cell_type": "code",
   "execution_count": 52,
   "metadata": {},
   "outputs": [
    {
     "data": {
      "image/png": "[encoded data removed]",
      "text/plain": [
       "<Figure size 640x317.532 with 2 Axes>"
      ]
     },
     "metadata": {},
     "output_type": "display_data"
    },
    {
     "name": "stdout",
     "output_type": "stream",
     "text": [
      "\n"
     ]
    }
   ],
   "source": [
    "points = enaset.rx2('points')\n",
    "\n",
    "df_points1 = points.loc[points['Condition'] == \"FirstGame\"]\n",
    "df_points2 = points.loc[points['Condition'] == \"SecondGame\"]\n",
    "### Subset rotated points for the first condition\n",
    "first_game_points = df_points1.drop(columns=['ENA_UNIT','Condition','UserName', 'CONFIDENCE.Change', 'CONFIDENCE.Pre', 'CONFIDENCE.Post', \"C.Change\"])\n",
    "### Subset rotated points for the second condition\n",
    "second_game_points = df_points2.drop(columns=['ENA_UNIT','Condition','UserName',  'CONFIDENCE.Change', 'CONFIDENCE.Pre', 'CONFIDENCE.Post', \"C.Change\"])\n",
    "\n",
    "plot = ggplot(data=points)\n",
    "plot += geom_point(mapping=aes(x=\"SVD1\", y=\"SVD2\", color=\"Condition\"))\n",
    "plot += coord_fixed(ratio=1, xlim=(-3, 3), ylim=(-3, 3))\n",
    "plot += facet_wrap(\"Condition\")\n",
    "print(plot)"
   ]
  },
  {
   "cell_type": "markdown",
   "metadata": {},
   "source": [
    "## Plotting Networks"
   ]
  },
  {
   "cell_type": "code",
   "execution_count": 54,
   "metadata": {},
   "outputs": [
    {
     "name": "stdout",
     "output_type": "stream",
     "text": [
      "                             code      SVD1      SVD2      SVD3      SVD4  \\\n",
      "1                            Data  1.662252  0.700171 -0.959910  1.094216   \n",
      "2           Technical.Constraints -0.109755  1.799084  0.398956 -0.488341   \n",
      "3          Performance.Parameters  1.177196 -2.052511  0.956132 -0.925879   \n",
      "4  Client.and.Consultant.Requests -0.495936  0.310701  1.690344  2.428804   \n",
      "5                Design.Reasoning -2.239086 -0.790025 -1.084363  0.127067   \n",
      "6                   Collaboration  0.089282  0.649951  1.807759 -1.312459   \n",
      "\n",
      "       SVD5      SVD6      SVD7      SVD8      SVD9     SVD10     SVD11  \\\n",
      "1  0.524277  0.869807  1.060580  0.284967  0.129718  0.155984 -0.003978   \n",
      "2 -0.672996 -1.144296 -0.995570 -0.502497 -0.096754 -0.076530 -0.050236   \n",
      "3 -0.343472 -0.307629 -0.536945 -0.135688 -0.103396 -0.162191 -0.012748   \n",
      "4  0.126448 -0.740071  0.393789 -0.495162 -0.116266  0.164472 -0.086628   \n",
      "5  0.307878  0.460038  0.345462  0.350285  0.054655  0.069604  0.077095   \n",
      "6  0.866819  1.632178  0.540532  0.557931  0.203753 -0.103796  0.016619   \n",
      "\n",
      "      SVD12     SVD13     SVD14     SVD15  \n",
      "1 -0.067640 -0.046741 -0.075510  0.015936  \n",
      "2 -0.012834  0.114328  0.050813 -0.002720  \n",
      "3  0.088505 -0.020909  0.047715 -0.005073  \n",
      "4 -0.102618  0.110764 -0.051491  0.029248  \n",
      "5 -0.010488 -0.048301 -0.014919 -0.017689  \n",
      "6  0.124363 -0.137292 -0.006427  0.026946  \n"
     ]
    },
    {
     "data": {
      "image/png": "[encoded data removed]",
      "text/plain": [
       "<Figure size 640x317.532 with 2 Axes>"
      ]
     },
     "metadata": {},
     "output_type": "display_data"
    },
    {
     "name": "stdout",
     "output_type": "stream",
     "text": [
      "\n"
     ]
    }
   ],
   "source": [
    "nodes = enaset.rx2(\"rotation\").rx2(\"nodes\")\n",
    "print(nodes)\n",
    "plot += geom_point(data=nodes, mapping=aes(x=\"SVD1\", y=\"SVD2\"))\n",
    "plot += geom_label(data=nodes, mapping=aes(x=\"SVD1\", y=\"SVD2\", label=\"code\", size=6))\n",
    "xs = [1, 2, 1, 3] # TODO produce these with a smarter loop\n",
    "ys = [1, 1, 2, 2]\n",
    "conditions = [\"FirstGame\", \"FirstGame\", \"SecondGame\", \"SecondGame\"]\n",
    "sizes = [10, 10, 4, 4]\n",
    "edges = DataFrame({\"x\": xs, \"y\": ys, \"Condition\": conditions, \"size\": sizes})\n",
    "plot += geom_line(data=edges, mapping=aes(x=\"x\", y=\"y\", size=\"size\", color=\"Condition\"))\n",
    "print(plot)"
   ]
  },
  {
   "cell_type": "markdown",
   "metadata": {},
   "source": [
    "## Plotting Means"
   ]
  },
  {
   "cell_type": "code",
   "execution_count": 9,
   "metadata": {},
   "outputs": [
    {
     "ename": "NotImplementedError",
     "evalue": "Conversion 'py2rpy' not defined for objects of type '<class 'type'>'",
     "output_type": "error",
     "traceback": [
      "\u001b[0;31m---------------------------------------------------------------------------\u001b[0m",
      "\u001b[0;31mNotImplementedError\u001b[0m                       Traceback (most recent call last)",
      "\u001b[0;32m/tmp/ipykernel_100/1986310277.py\u001b[0m in \u001b[0;36m<module>\u001b[0;34m\u001b[0m\n\u001b[0;32m----> 1\u001b[0;31m \u001b[0mplot\u001b[0m \u001b[0;34m=\u001b[0m \u001b[0mrENA\u001b[0m\u001b[0;34m.\u001b[0m\u001b[0mena_plot\u001b[0m\u001b[0;34m(\u001b[0m\u001b[0mset\u001b[0m\u001b[0;34m,\u001b[0m \u001b[0mscale_to\u001b[0m \u001b[0;34m=\u001b[0m \u001b[0;34m[\u001b[0m\u001b[0;34m-\u001b[0m\u001b[0;36m1\u001b[0m\u001b[0;34m,\u001b[0m \u001b[0;36m0\u001b[0m\u001b[0;34m,\u001b[0m \u001b[0;36m1\u001b[0m\u001b[0;34m]\u001b[0m\u001b[0;34m,\u001b[0m \u001b[0mtitle\u001b[0m \u001b[0;34m=\u001b[0m\u001b[0;34m\"Groups and Means\"\u001b[0m\u001b[0;34m)\u001b[0m\u001b[0;34m\u001b[0m\u001b[0;34m\u001b[0m\u001b[0m\n\u001b[0m\u001b[1;32m      2\u001b[0m \u001b[0mplot\u001b[0m \u001b[0;34m=\u001b[0m \u001b[0mrENA\u001b[0m\u001b[0;34m.\u001b[0m\u001b[0mena_plot_points\u001b[0m\u001b[0;34m(\u001b[0m\u001b[0mplot\u001b[0m\u001b[0;34m,\u001b[0m \u001b[0mpoints\u001b[0m \u001b[0;34m=\u001b[0m \u001b[0mfirst_game_points\u001b[0m\u001b[0;34m,\u001b[0m \u001b[0mconfidence_interval\u001b[0m \u001b[0;34m=\u001b[0m\u001b[0;34m\"box\"\u001b[0m\u001b[0;34m,\u001b[0m \u001b[0mcolors\u001b[0m \u001b[0;34m=\u001b[0m \u001b[0;34m(\u001b[0m\u001b[0;34m\"blue\"\u001b[0m\u001b[0;34m)\u001b[0m\u001b[0;34m)\u001b[0m\u001b[0;34m\u001b[0m\u001b[0;34m\u001b[0m\u001b[0m\n\u001b[1;32m      3\u001b[0m \u001b[0mplot\u001b[0m \u001b[0;34m=\u001b[0m \u001b[0mrENA\u001b[0m\u001b[0;34m.\u001b[0m\u001b[0mena_plot_points\u001b[0m\u001b[0;34m(\u001b[0m\u001b[0mplot\u001b[0m\u001b[0;34m,\u001b[0m \u001b[0mpoints\u001b[0m \u001b[0;34m=\u001b[0m \u001b[0msecond_game_points\u001b[0m\u001b[0;34m,\u001b[0m \u001b[0mconfidence_interval\u001b[0m \u001b[0;34m=\u001b[0m\u001b[0;34m\"box\"\u001b[0m\u001b[0;34m,\u001b[0m \u001b[0mcolors\u001b[0m \u001b[0;34m=\u001b[0m \u001b[0;34m(\u001b[0m\u001b[0;34m\"red\"\u001b[0m\u001b[0;34m)\u001b[0m\u001b[0;34m)\u001b[0m\u001b[0;34m\u001b[0m\u001b[0;34m\u001b[0m\u001b[0m\n\u001b[1;32m      4\u001b[0m \u001b[0mplot\u001b[0m \u001b[0;34m=\u001b[0m \u001b[0mrENA\u001b[0m\u001b[0;34m.\u001b[0m\u001b[0mena_plot_group\u001b[0m\u001b[0;34m(\u001b[0m\u001b[0mplot\u001b[0m\u001b[0;34m,\u001b[0m \u001b[0mfirst_game_points\u001b[0m\u001b[0;34m,\u001b[0m \u001b[0mcolors\u001b[0m \u001b[0;34m=\u001b[0m \u001b[0;34m(\u001b[0m\u001b[0;34m\"red\"\u001b[0m\u001b[0;34m)\u001b[0m\u001b[0;34m,\u001b[0m \u001b[0mconfidence_interval\u001b[0m \u001b[0;34m=\u001b[0m\u001b[0;34m\"box\"\u001b[0m\u001b[0;34m)\u001b[0m\u001b[0;34m\u001b[0m\u001b[0;34m\u001b[0m\u001b[0m\n\u001b[1;32m      5\u001b[0m \u001b[0mplot\u001b[0m \u001b[0;34m=\u001b[0m \u001b[0mrENA\u001b[0m\u001b[0;34m.\u001b[0m\u001b[0mena_plot_group\u001b[0m\u001b[0;34m(\u001b[0m\u001b[0mplot\u001b[0m\u001b[0;34m,\u001b[0m \u001b[0msecond_game_points\u001b[0m\u001b[0;34m,\u001b[0m \u001b[0mcolors\u001b[0m \u001b[0;34m=\u001b[0m\u001b[0;34m(\u001b[0m\u001b[0;34m\"blue\"\u001b[0m\u001b[0;34m)\u001b[0m\u001b[0;34m,\u001b[0m \u001b[0mconfidence_interval\u001b[0m \u001b[0;34m=\u001b[0m\u001b[0;34m\"box\"\u001b[0m\u001b[0;34m)\u001b[0m\u001b[0;34m\u001b[0m\u001b[0;34m\u001b[0m\u001b[0m\n",
      "\u001b[0;32m/srv/conda/envs/notebook/lib/python3.7/site-packages/rpy2/robjects/functions.py\u001b[0m in \u001b[0;36m__call__\u001b[0;34m(self, *args, **kwargs)\u001b[0m\n\u001b[1;32m    197\u001b[0m                 \u001b[0mkwargs\u001b[0m\u001b[0;34m[\u001b[0m\u001b[0mr_k\u001b[0m\u001b[0;34m]\u001b[0m \u001b[0;34m=\u001b[0m \u001b[0mv\u001b[0m\u001b[0;34m\u001b[0m\u001b[0;34m\u001b[0m\u001b[0m\n\u001b[1;32m    198\u001b[0m         return (super(SignatureTranslatedFunction, self)\n\u001b[0;32m--> 199\u001b[0;31m                 .__call__(*args, **kwargs))\n\u001b[0m\u001b[1;32m    200\u001b[0m \u001b[0;34m\u001b[0m\u001b[0m\n\u001b[1;32m    201\u001b[0m \u001b[0;34m\u001b[0m\u001b[0m\n",
      "\u001b[0;32m/srv/conda/envs/notebook/lib/python3.7/site-packages/rpy2/robjects/functions.py\u001b[0m in \u001b[0;36m__call__\u001b[0;34m(self, *args, **kwargs)\u001b[0m\n\u001b[1;32m    115\u001b[0m \u001b[0;34m\u001b[0m\u001b[0m\n\u001b[1;32m    116\u001b[0m     \u001b[0;32mdef\u001b[0m \u001b[0m__call__\u001b[0m\u001b[0;34m(\u001b[0m\u001b[0mself\u001b[0m\u001b[0;34m,\u001b[0m \u001b[0;34m*\u001b[0m\u001b[0margs\u001b[0m\u001b[0;34m,\u001b[0m \u001b[0;34m**\u001b[0m\u001b[0mkwargs\u001b[0m\u001b[0;34m)\u001b[0m\u001b[0;34m:\u001b[0m\u001b[0;34m\u001b[0m\u001b[0;34m\u001b[0m\u001b[0m\n\u001b[0;32m--> 117\u001b[0;31m         \u001b[0mnew_args\u001b[0m \u001b[0;34m=\u001b[0m \u001b[0;34m[\u001b[0m\u001b[0mconversion\u001b[0m\u001b[0;34m.\u001b[0m\u001b[0mpy2rpy\u001b[0m\u001b[0;34m(\u001b[0m\u001b[0ma\u001b[0m\u001b[0;34m)\u001b[0m \u001b[0;32mfor\u001b[0m \u001b[0ma\u001b[0m \u001b[0;32min\u001b[0m \u001b[0margs\u001b[0m\u001b[0;34m]\u001b[0m\u001b[0;34m\u001b[0m\u001b[0;34m\u001b[0m\u001b[0m\n\u001b[0m\u001b[1;32m    118\u001b[0m         \u001b[0mnew_kwargs\u001b[0m \u001b[0;34m=\u001b[0m \u001b[0;34m{\u001b[0m\u001b[0;34m}\u001b[0m\u001b[0;34m\u001b[0m\u001b[0;34m\u001b[0m\u001b[0m\n\u001b[1;32m    119\u001b[0m         \u001b[0;32mfor\u001b[0m \u001b[0mk\u001b[0m\u001b[0;34m,\u001b[0m \u001b[0mv\u001b[0m \u001b[0;32min\u001b[0m \u001b[0mkwargs\u001b[0m\u001b[0;34m.\u001b[0m\u001b[0mitems\u001b[0m\u001b[0;34m(\u001b[0m\u001b[0;34m)\u001b[0m\u001b[0;34m:\u001b[0m\u001b[0;34m\u001b[0m\u001b[0;34m\u001b[0m\u001b[0m\n",
      "\u001b[0;32m/srv/conda/envs/notebook/lib/python3.7/site-packages/rpy2/robjects/functions.py\u001b[0m in \u001b[0;36m<listcomp>\u001b[0;34m(.0)\u001b[0m\n\u001b[1;32m    115\u001b[0m \u001b[0;34m\u001b[0m\u001b[0m\n\u001b[1;32m    116\u001b[0m     \u001b[0;32mdef\u001b[0m \u001b[0m__call__\u001b[0m\u001b[0;34m(\u001b[0m\u001b[0mself\u001b[0m\u001b[0;34m,\u001b[0m \u001b[0;34m*\u001b[0m\u001b[0margs\u001b[0m\u001b[0;34m,\u001b[0m \u001b[0;34m**\u001b[0m\u001b[0mkwargs\u001b[0m\u001b[0;34m)\u001b[0m\u001b[0;34m:\u001b[0m\u001b[0;34m\u001b[0m\u001b[0;34m\u001b[0m\u001b[0m\n\u001b[0;32m--> 117\u001b[0;31m         \u001b[0mnew_args\u001b[0m \u001b[0;34m=\u001b[0m \u001b[0;34m[\u001b[0m\u001b[0mconversion\u001b[0m\u001b[0;34m.\u001b[0m\u001b[0mpy2rpy\u001b[0m\u001b[0;34m(\u001b[0m\u001b[0ma\u001b[0m\u001b[0;34m)\u001b[0m \u001b[0;32mfor\u001b[0m \u001b[0ma\u001b[0m \u001b[0;32min\u001b[0m \u001b[0margs\u001b[0m\u001b[0;34m]\u001b[0m\u001b[0;34m\u001b[0m\u001b[0;34m\u001b[0m\u001b[0m\n\u001b[0m\u001b[1;32m    118\u001b[0m         \u001b[0mnew_kwargs\u001b[0m \u001b[0;34m=\u001b[0m \u001b[0;34m{\u001b[0m\u001b[0;34m}\u001b[0m\u001b[0;34m\u001b[0m\u001b[0;34m\u001b[0m\u001b[0m\n\u001b[1;32m    119\u001b[0m         \u001b[0;32mfor\u001b[0m \u001b[0mk\u001b[0m\u001b[0;34m,\u001b[0m \u001b[0mv\u001b[0m \u001b[0;32min\u001b[0m \u001b[0mkwargs\u001b[0m\u001b[0;34m.\u001b[0m\u001b[0mitems\u001b[0m\u001b[0;34m(\u001b[0m\u001b[0;34m)\u001b[0m\u001b[0;34m:\u001b[0m\u001b[0;34m\u001b[0m\u001b[0;34m\u001b[0m\u001b[0m\n",
      "\u001b[0;32m/srv/conda/envs/notebook/lib/python3.7/functools.py\u001b[0m in \u001b[0;36mwrapper\u001b[0;34m(*args, **kw)\u001b[0m\n\u001b[1;32m    838\u001b[0m                             '1 positional argument')\n\u001b[1;32m    839\u001b[0m \u001b[0;34m\u001b[0m\u001b[0m\n\u001b[0;32m--> 840\u001b[0;31m         \u001b[0;32mreturn\u001b[0m \u001b[0mdispatch\u001b[0m\u001b[0;34m(\u001b[0m\u001b[0margs\u001b[0m\u001b[0;34m[\u001b[0m\u001b[0;36m0\u001b[0m\u001b[0;34m]\u001b[0m\u001b[0;34m.\u001b[0m\u001b[0m__class__\u001b[0m\u001b[0;34m)\u001b[0m\u001b[0;34m(\u001b[0m\u001b[0;34m*\u001b[0m\u001b[0margs\u001b[0m\u001b[0;34m,\u001b[0m \u001b[0;34m**\u001b[0m\u001b[0mkw\u001b[0m\u001b[0;34m)\u001b[0m\u001b[0;34m\u001b[0m\u001b[0;34m\u001b[0m\u001b[0m\n\u001b[0m\u001b[1;32m    841\u001b[0m \u001b[0;34m\u001b[0m\u001b[0m\n\u001b[1;32m    842\u001b[0m     \u001b[0mfuncname\u001b[0m \u001b[0;34m=\u001b[0m \u001b[0mgetattr\u001b[0m\u001b[0;34m(\u001b[0m\u001b[0mfunc\u001b[0m\u001b[0;34m,\u001b[0m \u001b[0;34m'__name__'\u001b[0m\u001b[0;34m,\u001b[0m \u001b[0;34m'singledispatch function'\u001b[0m\u001b[0;34m)\u001b[0m\u001b[0;34m\u001b[0m\u001b[0;34m\u001b[0m\u001b[0m\n",
      "\u001b[0;32m/srv/conda/envs/notebook/lib/python3.7/site-packages/rpy2/robjects/conversion.py\u001b[0m in \u001b[0;36m_py2rpy\u001b[0;34m(obj)\u001b[0m\n\u001b[1;32m    188\u001b[0m     raise NotImplementedError(\n\u001b[1;32m    189\u001b[0m         \u001b[0;34m\"Conversion 'py2rpy' not defined for objects of type '%s'\"\u001b[0m \u001b[0;34m%\u001b[0m\u001b[0;34m\u001b[0m\u001b[0;34m\u001b[0m\u001b[0m\n\u001b[0;32m--> 190\u001b[0;31m         \u001b[0mstr\u001b[0m\u001b[0;34m(\u001b[0m\u001b[0mtype\u001b[0m\u001b[0;34m(\u001b[0m\u001b[0mobj\u001b[0m\u001b[0;34m)\u001b[0m\u001b[0;34m)\u001b[0m\u001b[0;34m\u001b[0m\u001b[0;34m\u001b[0m\u001b[0m\n\u001b[0m\u001b[1;32m    191\u001b[0m     )\n\u001b[1;32m    192\u001b[0m \u001b[0;34m\u001b[0m\u001b[0m\n",
      "\u001b[0;31mNotImplementedError\u001b[0m: Conversion 'py2rpy' not defined for objects of type '<class 'type'>'"
     ]
    }
   ],
   "source": [
    "plot = rENA.ena_plot(set, scale_to = [-1, 0, 1], title =\"Groups and Means\")\n",
    "plot = rENA.ena_plot_points(plot, points = first_game_points, confidence_interval =\"box\", colors = (\"blue\"))\n",
    "plot = rENA.ena_plot_points(plot, points = second_game_points, confidence_interval =\"box\", colors = (\"red\"))\n",
    "plot = rENA.ena_plot_group(plot, first_game_points, colors = (\"red\"), confidence_interval =\"box\")\n",
    "plot = rENA.ena_plot_group(plot, second_game_points, colors =(\"blue\"), confidence_interval =\"box\")\n",
    "pr(plot)"
   ]
  },
  {
   "cell_type": "markdown",
   "metadata": {},
   "source": [
    "## Plotting a Network"
   ]
  },
  {
   "cell_type": "code",
   "execution_count": null,
   "metadata": {},
   "outputs": [],
   "source": [
    "line_weights = (set.rx2('line.weights'))\n",
    "\n",
    "### Subset lineweights for SecondGame and Calculate the colMeans\n",
    "first_game_lineweights = line_weights.loc[points['Condition'] == \"FirstGame\"]\n",
    "second_game_lineweights = line_weights.loc[points['Condition'] == \"SecondGame\"]\n",
    "\n",
    "first_game_lineweights = first_game_lineweights.drop(columns=['ENA_UNIT','Condition','UserName', 'CONFIDENCE.Change', 'CONFIDENCE.Pre', 'CONFIDENCE.Post', \"C.Change\"])\n",
    "### Subset rotated points for the second condition\n",
    "second_game_lineweights = second_game_lineweights.drop(columns=['ENA_UNIT','Condition','UserName',  'CONFIDENCE.Change', 'CONFIDENCE.Pre', 'CONFIDENCE.Post', \"C.Change\"])\n",
    "\n",
    "first_game_mean = colMeans(first_game_lineweights)\n",
    "second_game_mean = colMeans(second_game_lineweights)\n",
    "\n",
    "subtracted_mean = first_game_mean - second_game_mean"
   ]
  },
  {
   "cell_type": "code",
   "execution_count": null,
   "metadata": {},
   "outputs": [],
   "source": [
    "plot_first = rENA.ena_plot(set, title =\"FirstGame\")\n",
    "plot_first = rENA.ena_plot_network(plot_first, network = first_game_mean)\n",
    "pr(plot_first)"
   ]
  },
  {
   "cell_type": "code",
   "execution_count": null,
   "metadata": {},
   "outputs": [],
   "source": [
    "plot_second = rENA.ena_plot(set, title =\"SecondGame\")\n",
    "plot_second = rENA.ena_plot_network(plot_second, network = second_game_mean, colors = (\"blue\"))\n",
    "pr(plot_second)"
   ]
  },
  {
   "cell_type": "markdown",
   "metadata": {},
   "source": [
    "## Plot subtracted network only"
   ]
  },
  {
   "cell_type": "code",
   "execution_count": null,
   "metadata": {},
   "outputs": [],
   "source": [
    "plot_sub = rENA.ena_plot(set, title =\"Subtracted\")\n",
    "plot_sub = rENA.ena_plot_network(plot_sub, network = subtracted_mean)\n",
    "pr(plot_sub)"
   ]
  },
  {
   "cell_type": "markdown",
   "metadata": {},
   "source": [
    "## Plot Everything Together"
   ]
  },
  {
   "cell_type": "code",
   "execution_count": null,
   "metadata": {},
   "outputs": [],
   "source": [
    "rotation = (set.rx2('rotation'))\n",
    "nodes = rotation.rx2('nodes')\n",
    "\n",
    "# Scale the nodes to match that of the network, for better viewing\n",
    "first_game_points_max = rmax(first_game_points)\n",
    "second_game_points_max = rmax(second_game_points)\n",
    "if(first_game_points_max> second_game_points_max):\n",
    "  point_max = first_game_points_max\n",
    "else:\n",
    "  point_max = second_game_points_max\n",
    "\n",
    "nodes = nodes.drop(columns=['code'])\n",
    "max_nodes = rmax(nodes)\n",
    "with localconverter(ro.default_converter + pandas2ri.converter):\n",
    "  first_game_points = ro.conversion.py2rpy(first_game_points)\n",
    "\n",
    "first_game_scaled = first_game_points\n",
    "second_game_scaled = second_game_points\n",
    "\n",
    "plot = rENA.ena_plot(set, title =\"Plot with Units and Network\", font_family =\"Times\")\n",
    "plot = rENA.ena_plot_points(plot, points = first_game_scaled, colors = (\"red\"))\n",
    "plot = rENA.ena_plot_points(plot, points = second_game_scaled, colors = (\"blue\"))\n",
    "plot = rENA.ena_plot_group(plot, point = first_game_scaled, colors =(\"red\"), confidence_interval =\"box\")\n",
    "plot = rENA.ena_plot_group(plot, point = second_game_scaled, colors =(\"blue\"), confidence_interval =\"box\")\n",
    "plot = rENA.ena_plot_network(plot, network = subtracted_mean)\n",
    "pr(plot)"
   ]
  }
 ],
 "metadata": {
  "kernelspec": {
   "display_name": "Python 3 (ipykernel)",
   "language": "python",
   "name": "python3"
  },
  "language_info": {
   "codemirror_mode": {
    "name": "ipython",
    "version": 3
   },
   "file_extension": ".py",
   "mimetype": "text/x-python",
   "name": "python",
   "nbconvert_exporter": "python",
   "pygments_lexer": "ipython3",
   "version": "3.7.10"
  }
 },
 "nbformat": 4,
 "nbformat_minor": 4
}
